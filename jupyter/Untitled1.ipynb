{
 "cells": [
  {
   "cell_type": "code",
   "execution_count": 1,
   "metadata": {
    "collapsed": false
   },
   "outputs": [
    {
     "ename": "SyntaxError",
     "evalue": "<main>: syntax error, unexpected tSTRING_BEG, expecting keyword_do or '{' or '('\n{u'FaceRecords': [{u'FaceDetail'...\n   ^\n<main>: syntax error, unexpected tSTRING_BEG, expecting keyword_do or '{' or '('\n{u'FaceRecords': [{u'FaceDetail': {u'BoundingBox':...\n                     ^",
     "output_type": "error",
     "traceback": [
      "\u001b[31mSyntaxError\u001b[0m: <main>: syntax error, unexpected tSTRING_BEG, expecting keyword_do or '{' or '('\n{u'FaceRecords': [{u'FaceDetail'...\n   ^\n<main>: syntax error, unexpected tSTRING_BEG, expecting keyword_do or '{' or '('\n{u'FaceRecords': [{u'FaceDetail': {u'BoundingBox':...\n                     ^",
      "\u001b[37m/Users/sangenya/.rbenv/versions/2.3.2/lib/ruby/gems/2.3.0/gems/iruby-0.2.9/lib/iruby/backend.rb:44:in `eval'\u001b[0m",
      "\u001b[37m/Users/sangenya/.rbenv/versions/2.3.2/lib/ruby/gems/2.3.0/gems/iruby-0.2.9/lib/iruby/backend.rb:44:in `eval'\u001b[0m",
      "\u001b[37m/Users/sangenya/.rbenv/versions/2.3.2/lib/ruby/gems/2.3.0/gems/iruby-0.2.9/lib/iruby/backend.rb:12:in `eval'\u001b[0m",
      "\u001b[37m/Users/sangenya/.rbenv/versions/2.3.2/lib/ruby/gems/2.3.0/gems/iruby-0.2.9/lib/iruby/kernel.rb:87:in `execute_request'\u001b[0m",
      "\u001b[37m/Users/sangenya/.rbenv/versions/2.3.2/lib/ruby/gems/2.3.0/gems/iruby-0.2.9/lib/iruby/kernel.rb:47:in `dispatch'\u001b[0m",
      "\u001b[37m/Users/sangenya/.rbenv/versions/2.3.2/lib/ruby/gems/2.3.0/gems/iruby-0.2.9/lib/iruby/kernel.rb:37:in `run'\u001b[0m",
      "\u001b[37m/Users/sangenya/.rbenv/versions/2.3.2/lib/ruby/gems/2.3.0/gems/iruby-0.2.9/lib/iruby/command.rb:70:in `run_kernel'\u001b[0m",
      "\u001b[37m/Users/sangenya/.rbenv/versions/2.3.2/lib/ruby/gems/2.3.0/gems/iruby-0.2.9/lib/iruby/command.rb:34:in `run'\u001b[0m",
      "\u001b[37m/Users/sangenya/.rbenv/versions/2.3.2/lib/ruby/gems/2.3.0/gems/iruby-0.2.9/bin/iruby:5:in `<top (required)>'\u001b[0m",
      "\u001b[37m/Users/sangenya/.rbenv/versions/2.3.2/bin/iruby:22:in `load'\u001b[0m",
      "\u001b[37m/Users/sangenya/.rbenv/versions/2.3.2/bin/iruby:22:in `<main>'\u001b[0m"
     ]
    }
   ],
   "source": [
    "{u'FaceRecords': [{u'FaceDetail': {u'BoundingBox': {u'Width': 0.09014423191547394, u'Top': 0.29113247990608215, u'Left': 0.16075721383094788, u'Height': 0.15758547186851501}, u'Landmarks': [{u'Y': 0.3517148494720459, u'X': 0.192282572388649, u'Type': u'eyeLeft'}, {u'Y': 0.35707083344459534, u'X': 0.22338223457336426, u'Type': u'eyeRight'}, {u'Y': 0.3820320665836334, u'X': 0.20877425372600555, u'Type': u'nose'}, {u'Y': 0.41220852732658386, u'X': 0.19237037003040314, u'Type': u'mouthLeft'}, {u'Y': 0.4171502888202667, u'X': 0.21824905276298523, u'Type': u'mouthRight'}], u'Pose': {u'Yaw': 6.88712215423584, u'Roll': 4.858004570007324, u'Pitch': 6.737156391143799}, u'Quality': {u'Sharpness': 10.0, u'Brightness': 47.33333969116211}, u'Confidence': 99.88770294189453}, u'Face': {u'BoundingBox': {u'Width': 0.09014423191547394, u'Top': 0.29113247990608215, u'Left': 0.16075721383094788, u'Height': 0.15758547186851501}, u'FaceId': u'a0437b92-da13-502c-b5b6-b8da13aca3ca', u'ExternalImageId': u'altena-oregon__uploads__frame87.jpg', u'Confidence': 99.88770294189453, u'ImageId': u'16c17927-4f1e-5dfb-bd3f-99910f7bef14'}}, {u'FaceDetail': {u'BoundingBox': {u'Width': 0.08563701808452606, u'Top': 0.27510684728622437, u'Left': 0.3335336446762085, u'Height': 0.14957265555858612}, u'Landmarks': [{u'Y': 0.3393738269805908, u'X': 0.35970109701156616, u'Type': u'eyeLeft'}, {u'Y': 0.35153359174728394, u'X': 0.38568970561027527, u'Type': u'eyeRight'}, {u'Y': 0.37621763348579407, u'X': 0.36590319871902466, u'Type': u'nose'}, {u'Y': 0.3888598084449768, u'X': 0.3627355694770813, u'Type': u'mouthLeft'}, {u'Y': 0.3957151174545288, u'X': 0.3861730992794037, u'Type': u'mouthRight'}], u'Pose': {u'Yaw': -26.20008087158203, u'Roll': 17.411359786987305, u'Pitch': -17.469898223876953}, u'Quality': {u'Sharpness': 10.0, u'Brightness': 47.48374938964844}, u'Confidence': 99.94214630126953}, u'Face': {u'BoundingBox': {u'Width': 0.08563701808452606, u'Top': 0.27510684728622437, u'Left': 0.3335336446762085, u'Height': 0.14957265555858612}, u'FaceId': u'220e3120-4a6b-5443-9385-eabfca2fb119', u'ExternalImageId': u'altena-oregon__uploads__frame87.jpg', u'Confidence': 99.94214630126953, u'ImageId': u'16c17927-4f1e-5dfb-bd3f-99910f7bef14'}}, {u'FaceDetail': {u'BoundingBox': {u'Width': 0.08112980425357819, u'Top': 0.27510684728622437, u'Left': 0.5213341116905212, u'Height': 0.14423076808452606}, u'Landmarks': [{u'Y': 0.3325691223144531, u'X': 0.5506836175918579, u'Type': u'eyeLeft'}, {u'Y': 0.3320232629776001, u'X': 0.5679200291633606, u'Type': u'eyeRight'}, {u'Y': 0.3611503541469574, u'X': 0.5480594635009766, u'Type': u'nose'}, {u'Y': 0.3877914547920227, u'X': 0.551474928855896, u'Type': u'mouthLeft'}, {u'Y': 0.3857673108577728, u'X': 0.5653259754180908, u'Type': u'mouthRight'}], u'Pose': {u'Yaw': -45.43528747558594, u'Roll': 1.2210004329681396, u'Pitch': 4.367969989776611}, u'Quality': {u'Sharpness': 10.0, u'Brightness': 45.88671112060547}, u'Confidence': 99.99874877929688}, u'Face': {u'BoundingBox': {u'Width': 0.08112980425357819, u'Top': 0.27510684728622437, u'Left': 0.5213341116905212, u'Height': 0.14423076808452606}, u'FaceId': u'96b23b42-3736-594b-ac3d-e630ecf10cde', u'ExternalImageId': u'altena-oregon__uploads__frame87.jpg', u'Confidence': 99.99874877929688, u'ImageId': u'16c17927-4f1e-5dfb-bd3f-99910f7bef14'}}, {u'FaceDetail': {u'BoundingBox': {u'Width': 0.07512019574642181, u'Top': 0.33386752009391785, u'Left': 0.7557091116905212, u'Height': 0.13354700803756714}, u'Landmarks': [{u'Y': 0.38348549604415894, u'X': 0.77694171667099, u'Type': u'eyeLeft'}, {u'Y': 0.3800152540206909, u'X': 0.8051043152809143, u'Type': u'eyeRight'}, {u'Y': 0.4091883897781372, u'X': 0.7886605262756348, u'Type': u'nose'}, {u'Y': 0.43371841311454773, u'X': 0.7814885973930359, u'Type': u'mouthLeft'}, {u'Y': 0.43065935373306274, u'X': 0.8066889047622681, u'Type': u'mouthRight'}], u'Pose': {u'Yaw': -10.705416679382324, u'Roll': -3.7487268447875977, u'Pitch': 2.924595832824707}, u'Quality': {u'Sharpness': 0.0, u'Brightness': 38.832454681396484}, u'Confidence': 99.97083282470703}, u'Face': {u'BoundingBox': {u'Width': 0.07512019574642181, u'Top': 0.33386752009391785, u'Left': 0.7557091116905212, u'Height': 0.13354700803756714}, u'FaceId': u'43fa00bf-034d-5d3d-abc9-02e9c4823d54', u'ExternalImageId': u'altena-oregon__uploads__frame87.jpg', u'Confidence': 99.97083282470703, u'ImageId': u'16c17927-4f1e-5dfb-bd3f-99910f7bef14'}}], 'ResponseMetadata': {'RetryAttempts': 0, 'HTTPStatusCode': 200, 'RequestId': '15d18110-f153-11e6-9b85-1f6ae62037ba', 'HTTPHeaders': {'date': 'Sun, 12 Feb 2017 18:43:04 GMT', 'x-amzn-requestid': '15d18110-f153-11e6-9b85-1f6ae62037ba', 'content-length': '3946', 'content-type': 'application/x-amz-json-1.1', 'connection': 'keep-alive'}}}"
   ]
  }
 ],
 "metadata": {
  "kernelspec": {
   "display_name": "Ruby 2.3.2",
   "language": "ruby",
   "name": "ruby"
  },
  "language_info": {
   "file_extension": ".rb",
   "mimetype": "application/x-ruby",
   "name": "ruby",
   "version": "2.3.2"
  }
 },
 "nbformat": 4,
 "nbformat_minor": 0
}
