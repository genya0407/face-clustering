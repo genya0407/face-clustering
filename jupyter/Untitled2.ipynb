{
 "cells": [
  {
   "cell_type": "code",
   "execution_count": 3,
   "metadata": {
    "collapsed": false
   },
   "outputs": [],
   "source": [
    "box = {\n",
    "    u'Width': 0.09014423191547394,\n",
    "    u'Top': 0.29113247990608215,\n",
    "    u'Left': 0.16075721383094788,\n",
    "    u'Height': 0.15758547186851501\n",
    "}"
   ]
  },
  {
   "cell_type": "code",
   "execution_count": 11,
   "metadata": {
    "collapsed": true
   },
   "outputs": [],
   "source": [
    "from PIL import Image\n",
    "import IPython.display as ip"
   ]
  },
  {
   "cell_type": "code",
   "execution_count": 19,
   "metadata": {
    "collapsed": false
   },
   "outputs": [
    {
     "name": "stdout",
     "output_type": "stream",
     "text": [
      "(82.30769348144531, 83.84615421295166, 128.46154022216797, 167.69230842590332)\n"
     ]
    },
    {
     "data": {
      "image/jpeg": "[encoded data removed]",
      "text/plain": [
       "<IPython.core.display.Image object>"
      ]
     },
     "execution_count": 19,
     "metadata": {},
     "output_type": "execute_result"
    }
   ],
   "source": [
    "img = Image.open('./redcarpet/frame10.jpg', 'r')\n",
    "width, height = img.size\n",
    "box_by_pixel_size = (\n",
    "    box['Left']*width,\n",
    "    box['Top']*height,\n",
    "    box['Width']*width + box['Left']*width,\n",
    "    box['Top']*height + box['Top']*height\n",
    ")\n",
    "print box_by_pixel_size\n",
    "region = img.crop(box_by_pixel_size)\n",
    "region.save('hoge.jpg')\n",
    "ip.Image('hoge.jpg')"
   ]
  }
 ],
 "metadata": {
  "kernelspec": {
   "display_name": "Python 2",
   "language": "python",
   "name": "python2"
  },
  "language_info": {
   "codemirror_mode": {
    "name": "ipython",
    "version": 2
   },
   "file_extension": ".py",
   "mimetype": "text/x-python",
   "name": "python",
   "nbconvert_exporter": "python",
   "pygments_lexer": "ipython2",
   "version": "2.7.12"
  }
 },
 "nbformat": 4,
 "nbformat_minor": 0
}
